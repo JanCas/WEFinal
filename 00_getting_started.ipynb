{
 "cells": [
  {
   "cell_type": "markdown",
   "id": "86e53920",
   "metadata": {},
   "source": [
    "# Getting Started with FLORIS v3\n",
    "\n",
    "FLORIS is a command-line program written in Python. There are two primary packages that make up the software:\n",
    "- `floris.simulation`: simulation framework including wake model definitions\n",
    "- `floris.tools`: utilities for pre and post processing as well as driving the simulation\n",
    "\n",
    "<!-- TODO add chart  -->\n",
    "\n",
    "Users of FLORIS will develop a Python script with the following sequence of steps:\n",
    "\n",
    "1. Load inputs and preprocess data\n",
    "2. Run the wind farm wake simulation\n",
    "3. Extract data and postprocess results\n",
    "\n",
    "Generally, users will only interact with `floris.tools` and most often through\n",
    "the `FlorisInterface` class. Additionally, `floris.tools` contains functionality\n",
    "for comparing results, creating visualizations, and developing optimization cases. \n",
    "\n",
    "**NOTE `floris.tools` is under active design and development. The API's will change and additional functionality from FLORIS v2 will be included in upcoming releases.**\n",
    "\n",
    "This notebook steps through the basic ideas and operations of FLORIS while showing\n",
    "realistic uses and expected behavior."
   ]
  },
  {
   "cell_type": "markdown",
   "id": "699c51dd",
   "metadata": {},
   "source": [
    "## Initialize FlorisInterface\n",
    "\n",
    "The `FlorisInterface` provides functionality to build a wind farm representation and drive\n",
    "the simulation. This object is created (instantiated) by passing the path to a FLORIS input\n",
    "file as the only argument. After this object is created, it can immediately be used to\n",
    "inspect the data."
   ]
  },
  {
   "cell_type": "code",
   "execution_count": 6,
   "id": "602f311c",
   "metadata": {},
   "outputs": [
    {
     "name": "stdout",
     "output_type": "stream",
     "text": [
      "     x       y\n",
      "   0.0,    0.0\n",
      " 630.0,    0.0\n",
      "1260.0,    0.0\n"
     ]
    }
   ],
   "source": [
    "import numpy as np\n",
    "from floris.tools import FlorisInterface\n",
    "import matplotlib.pyplot as plt\n",
    "\n",
    "#\n",
    "\n",
    "fi = FlorisInterface(\"gch.yaml\")\n",
    "x, y = fi.get_turbine_layout()\n",
    "\n",
    "print(\"     x       y\")\n",
    "for _x, _y in zip(x, y):\n",
    "    print(f\"{_x:6.1f}, {_y:6.1f}\")"
   ]
  },
  {
   "cell_type": "markdown",
   "id": "e1eaeb53",
   "metadata": {},
   "source": [
    "## Build the model\n",
    "\n",
    "At this point, FLORIS has been initialized with the data defined in the input file.\n",
    "However, it is often simpler to define a basic configuration in the input file as\n",
    "a starting point and then make modifications in the Python script. This allows for\n",
    "generating data algorithmically or loading data from a data file. Modifications to\n",
    "the wind farm representation are handled through the `FlorisInterface.reinitialize()`\n",
    "function with keyword arguments. Another way to think of this function is that it\n",
    "changes the value of inputs specified in the input file.\n",
    "\n",
    "Let's change the location of turbines in the wind farm. The code below changes the\n",
    "initial 3x1 layout to a 2x2 rectangular layout."
   ]
  },
  {
   "cell_type": "code",
   "execution_count": 7,
   "id": "d040b810",
   "metadata": {},
   "outputs": [
    {
     "name": "stdout",
     "output_type": "stream",
     "text": [
      "     x       y\n",
      "   0.0,    0.0\n",
      "   1.0,    0.0\n",
      "   2.0,    0.0\n",
      "   3.0,    0.0\n",
      "   4.0,    0.0\n",
      "   5.0,    0.0\n",
      "   6.0,    0.0\n",
      "   7.0,    0.0\n",
      "   8.0,    0.0\n",
      "   9.0,    0.0\n",
      "   0.0,    1.0\n",
      "   1.0,    1.0\n",
      "   2.0,    1.0\n",
      "   3.0,    1.0\n",
      "   4.0,    1.0\n",
      "   5.0,    1.0\n",
      "   6.0,    1.0\n",
      "   7.0,    1.0\n",
      "   8.0,    1.0\n",
      "   9.0,    1.0\n",
      "   0.0,    2.0\n",
      "   1.0,    2.0\n",
      "   2.0,    2.0\n",
      "   3.0,    2.0\n",
      "   4.0,    2.0\n",
      "   5.0,    2.0\n",
      "   6.0,    2.0\n",
      "   7.0,    2.0\n",
      "   8.0,    2.0\n",
      "   9.0,    2.0\n",
      "   0.0,    3.0\n",
      "   1.0,    3.0\n",
      "   2.0,    3.0\n",
      "   3.0,    3.0\n",
      "   4.0,    3.0\n",
      "   5.0,    3.0\n",
      "   6.0,    3.0\n",
      "   7.0,    3.0\n",
      "   8.0,    3.0\n",
      "   9.0,    3.0\n",
      "   0.0,    4.0\n",
      "   1.0,    4.0\n",
      "   2.0,    4.0\n",
      "   3.0,    4.0\n",
      "   4.0,    4.0\n",
      "   5.0,    4.0\n",
      "   6.0,    4.0\n",
      "   7.0,    4.0\n",
      "   8.0,    4.0\n",
      "   9.0,    4.0\n",
      "   0.0,    5.0\n",
      "   1.0,    5.0\n",
      "   2.0,    5.0\n",
      "   3.0,    5.0\n",
      "   4.0,    5.0\n",
      "   5.0,    5.0\n",
      "   6.0,    5.0\n",
      "   7.0,    5.0\n",
      "   8.0,    5.0\n",
      "   9.0,    5.0\n",
      "   0.0,    6.0\n",
      "   1.0,    6.0\n",
      "   2.0,    6.0\n",
      "   3.0,    6.0\n",
      "   4.0,    6.0\n",
      "   5.0,    6.0\n",
      "   6.0,    6.0\n",
      "   7.0,    6.0\n",
      "   8.0,    6.0\n",
      "   9.0,    6.0\n",
      "   0.0,    7.0\n",
      "   1.0,    7.0\n",
      "   2.0,    7.0\n",
      "   3.0,    7.0\n",
      "   4.0,    7.0\n",
      "   5.0,    7.0\n",
      "   6.0,    7.0\n",
      "   7.0,    7.0\n",
      "   8.0,    7.0\n",
      "   9.0,    7.0\n",
      "   0.0,    8.0\n",
      "   1.0,    8.0\n",
      "   2.0,    8.0\n",
      "   3.0,    8.0\n",
      "   4.0,    8.0\n",
      "   5.0,    8.0\n",
      "   6.0,    8.0\n",
      "   7.0,    8.0\n",
      "   8.0,    8.0\n",
      "   9.0,    8.0\n",
      "   0.0,    9.0\n",
      "   1.0,    9.0\n",
      "   2.0,    9.0\n",
      "   3.0,    9.0\n",
      "   4.0,    9.0\n",
      "   5.0,    9.0\n",
      "   6.0,    9.0\n",
      "   7.0,    9.0\n",
      "   8.0,    9.0\n",
      "   9.0,    9.0\n"
     ]
    }
   ],
   "source": [
    "#chad_y = repelem([0,1,2,3,4,5,6,7,8,9],10)\n",
    "#chad_x = repmat([0,1,2,3,4,5,6,7,8,9],1,10)\n",
    "\n",
    "y_2x2 = np.repeat([0,1,2,3,4,5,6,7,8,9],10)\n",
    "x_2x2 = np.tile([0,1,2,3,4,5,6,7,8,9],10)\n",
    "\n",
    "x_2x = [0, 0, 800, 800]\n",
    "y_2x = [0, 400, 0, 400]\n",
    "fi.reinitialize(layout_x=x_2x2, layout_y=y_2x2)\n",
    "\n",
    "x, y = fi.get_turbine_layout()\n",
    "\n",
    "print(\"     x       y\")\n",
    "for _x, _y in zip(x, y):\n",
    "    print(f\"{_x:6.1f}, {_y:6.1f}\")"
   ]
  },
  {
   "cell_type": "markdown",
   "id": "63f45e11",
   "metadata": {},
   "source": [
    "Additionally, we can change the wind speeds and wind directions.\n",
    "These are lists of wind speeds and wind directions that will be\n",
    "combined so that a wake calculation will happen for every wind\n",
    "direction with each speed.\n",
    "\n",
    "Notice that we can give `FlorisInterface.reinitialize()` multiple keyword arguments at once."
   ]
  },
  {
   "cell_type": "code",
   "execution_count": 8,
   "id": "6f9d834a",
   "metadata": {},
   "outputs": [],
   "source": [
    "# One wind direction and one speed -> one atmospheric condition\n",
    "fi.reinitialize( wind_directions=[270.0], wind_speeds=[8.0] )\n",
    "\n",
    "# Two wind directions and one speed -> two atmospheric conditions\n",
    "fi.reinitialize( wind_directions=[270.0, 280.0], wind_speeds=[8.0] )\n",
    "\n",
    "# Two wind directions and two speeds -> four atmospheric conditions\n",
    "fi.reinitialize( wind_directions=[270.0, 280.0], wind_speeds=[8.0, 9.0] )"
   ]
  },
  {
   "cell_type": "markdown",
   "id": "da4f3309",
   "metadata": {},
   "source": [
    "`FlorisInterface.reinitialize()` creates all of the basic data structures required\n",
    "for the simulation but it does not do any aerodynamic calculations. The low level\n",
    "data structures have a complex shape that enables faster computations. Specifically,\n",
    "most data is structured as a many-dimensional Numpy array with the following dimensions:\n",
    "\n",
    "```python\n",
    "np.array(\n",
    "    (\n",
    "        wind directions,\n",
    "        wind speeds,\n",
    "        turbines,\n",
    "        grid-1,\n",
    "        grid-2\n",
    "    )\n",
    ")\n",
    "```\n",
    "\n",
    "For example, we can see the shape of the data structure for the grid point x-coordinates\n",
    "for the all turbines and get the x-coordinates of grid points for the third turbine in\n",
    "the first wind direction and first wind speed. We can also plot all the grid points in\n",
    "space to get an idea of the overall form of our grid."
   ]
  },
  {
   "cell_type": "code",
   "execution_count": 9,
   "id": "01ea3a98",
   "metadata": {},
   "outputs": [
    {
     "name": "stdout",
     "output_type": "stream",
     "text": [
      "Dimensions of grid x-components\n",
      "(2, 2, 100, 3, 3)\n",
      "\n",
      "Turbine 3 grid x-components for first wind direction and first wind speed\n",
      "[[2. 2. 2.]\n",
      " [2. 2. 2.]\n",
      " [2. 2. 2.]]\n"
     ]
    },
    {
     "data": {
      "text/plain": "(0.0, 150.0)"
     },
     "execution_count": 9,
     "metadata": {},
     "output_type": "execute_result"
    },
    {
     "data": {
      "text/plain": "<Figure size 640x480 with 1 Axes>",
      "image/png": "[encoded data removed]"
     },
     "metadata": {},
     "output_type": "display_data"
    }
   ],
   "source": [
    "print(\"Dimensions of grid x-components\")\n",
    "print( np.shape(fi.floris.grid.x) )\n",
    "\n",
    "print()\n",
    "print(\"Turbine 3 grid x-components for first wind direction and first wind speed\")\n",
    "print(fi.floris.grid.x[0, 0, 2, :, :])\n",
    "\n",
    "x = fi.floris.grid.x[0, 0, :, :, :]\n",
    "y = fi.floris.grid.y[0, 0, :, :, :]\n",
    "z = fi.floris.grid.z[0, 0, :, :, :]\n",
    "\n",
    "fig = plt.figure()\n",
    "ax = fig.add_subplot(111, projection=\"3d\")\n",
    "ax.scatter(x, y, z, marker=\".\")\n",
    "ax.set_zlim([0, 150])"
   ]
  },
  {
   "cell_type": "markdown",
   "id": "ebfdc746",
   "metadata": {},
   "source": [
    "## Execute wake calculation\n",
    "\n",
    "Running the wake calculation is a one-liner. This will calculate the velocities\n",
    "at each turbine given the wake of other turbines for every wind speed and wind\n",
    "direction combination. Since we have not explicitly specified yaw control settings,\n",
    "all turbines are aligned with the inflow."
   ]
  },
  {
   "cell_type": "code",
   "execution_count": 10,
   "id": "e3bf1698",
   "metadata": {},
   "outputs": [],
   "source": [
    "fi.calculate_wake()"
   ]
  },
  {
   "cell_type": "markdown",
   "id": "e11352e8",
   "metadata": {},
   "source": [
    "## Get turbine power\n",
    "\n",
    "At this point, the simulation has completed and we can use the `FlorisInterface` to\n",
    "extract useful information such as the power produced at each turbine. Remember that\n",
    "we have configured the simulation with two wind directions, two wind speeds, and four\n",
    "turbines."
   ]
  },
  {
   "cell_type": "code",
   "execution_count": 11,
   "id": "cc05bfe7",
   "metadata": {},
   "outputs": [
    {
     "ename": "ValueError",
     "evalue": "A value in x_new is below the interpolation range.",
     "output_type": "error",
     "traceback": [
      "\u001B[1;31m---------------------------------------------------------------------------\u001B[0m",
      "\u001B[1;31mValueError\u001B[0m                                Traceback (most recent call last)",
      "Cell \u001B[1;32mIn[11], line 1\u001B[0m\n\u001B[1;32m----> 1\u001B[0m powers \u001B[38;5;241m=\u001B[39m \u001B[43mfi\u001B[49m\u001B[38;5;241;43m.\u001B[39;49m\u001B[43mget_turbine_powers\u001B[49m\u001B[43m(\u001B[49m\u001B[43m)\u001B[49m \u001B[38;5;241m/\u001B[39m \u001B[38;5;241m1000.0\u001B[39m  \u001B[38;5;66;03m# calculated in Watts, so convert to kW\u001B[39;00m\n\u001B[0;32m      3\u001B[0m \u001B[38;5;28mprint\u001B[39m(\u001B[38;5;124m\"\u001B[39m\u001B[38;5;124mDimensions of `powers`\u001B[39m\u001B[38;5;124m\"\u001B[39m)\n\u001B[0;32m      4\u001B[0m \u001B[38;5;28mprint\u001B[39m( np\u001B[38;5;241m.\u001B[39mshape(powers) )\n",
      "File \u001B[1;32m~\\anaconda3\\envs\\WEFinal\\lib\\site-packages\\floris\\tools\\floris_interface.py:576\u001B[0m, in \u001B[0;36mFlorisInterface.get_turbine_powers\u001B[1;34m(self)\u001B[0m\n\u001B[0;32m    573\u001B[0m \u001B[38;5;28;01mif\u001B[39;00m \u001B[38;5;28mself\u001B[39m\u001B[38;5;241m.\u001B[39mfloris\u001B[38;5;241m.\u001B[39mstate \u001B[38;5;129;01mis\u001B[39;00m \u001B[38;5;129;01mnot\u001B[39;00m State\u001B[38;5;241m.\u001B[39mUSED:\n\u001B[0;32m    574\u001B[0m     \u001B[38;5;28;01mraise\u001B[39;00m \u001B[38;5;167;01mRuntimeError\u001B[39;00m(\u001B[38;5;124mf\u001B[39m\u001B[38;5;124m\"\u001B[39m\u001B[38;5;124mCan\u001B[39m\u001B[38;5;124m'\u001B[39m\u001B[38;5;124mt run function `FlorisInterface.get_turbine_powers` without first running `FlorisInterface.calculate_wake`.\u001B[39m\u001B[38;5;124m\"\u001B[39m)\n\u001B[1;32m--> 576\u001B[0m turbine_powers \u001B[38;5;241m=\u001B[39m \u001B[43mpower\u001B[49m\u001B[43m(\u001B[49m\n\u001B[0;32m    577\u001B[0m \u001B[43m    \u001B[49m\u001B[43mair_density\u001B[49m\u001B[38;5;241;43m=\u001B[39;49m\u001B[38;5;28;43mself\u001B[39;49m\u001B[38;5;241;43m.\u001B[39;49m\u001B[43mfloris\u001B[49m\u001B[38;5;241;43m.\u001B[39;49m\u001B[43mflow_field\u001B[49m\u001B[38;5;241;43m.\u001B[39;49m\u001B[43mair_density\u001B[49m\u001B[43m,\u001B[49m\n\u001B[0;32m    578\u001B[0m \u001B[43m    \u001B[49m\u001B[43mref_density_cp_ct\u001B[49m\u001B[38;5;241;43m=\u001B[39;49m\u001B[38;5;28;43mself\u001B[39;49m\u001B[38;5;241;43m.\u001B[39;49m\u001B[43mfloris\u001B[49m\u001B[38;5;241;43m.\u001B[39;49m\u001B[43mfarm\u001B[49m\u001B[38;5;241;43m.\u001B[39;49m\u001B[43mref_density_cp_cts\u001B[49m\u001B[43m,\u001B[49m\n\u001B[0;32m    579\u001B[0m \u001B[43m    \u001B[49m\u001B[43mvelocities\u001B[49m\u001B[38;5;241;43m=\u001B[39;49m\u001B[38;5;28;43mself\u001B[39;49m\u001B[38;5;241;43m.\u001B[39;49m\u001B[43mfloris\u001B[49m\u001B[38;5;241;43m.\u001B[39;49m\u001B[43mflow_field\u001B[49m\u001B[38;5;241;43m.\u001B[39;49m\u001B[43mu\u001B[49m\u001B[43m,\u001B[49m\n\u001B[0;32m    580\u001B[0m \u001B[43m    \u001B[49m\u001B[43myaw_angle\u001B[49m\u001B[38;5;241;43m=\u001B[39;49m\u001B[38;5;28;43mself\u001B[39;49m\u001B[38;5;241;43m.\u001B[39;49m\u001B[43mfloris\u001B[49m\u001B[38;5;241;43m.\u001B[39;49m\u001B[43mfarm\u001B[49m\u001B[38;5;241;43m.\u001B[39;49m\u001B[43myaw_angles\u001B[49m\u001B[43m,\u001B[49m\n\u001B[0;32m    581\u001B[0m \u001B[43m    \u001B[49m\u001B[43mpP\u001B[49m\u001B[38;5;241;43m=\u001B[39;49m\u001B[38;5;28;43mself\u001B[39;49m\u001B[38;5;241;43m.\u001B[39;49m\u001B[43mfloris\u001B[49m\u001B[38;5;241;43m.\u001B[39;49m\u001B[43mfarm\u001B[49m\u001B[38;5;241;43m.\u001B[39;49m\u001B[43mpPs\u001B[49m\u001B[43m,\u001B[49m\n\u001B[0;32m    582\u001B[0m \u001B[43m    \u001B[49m\u001B[43mpower_interp\u001B[49m\u001B[38;5;241;43m=\u001B[39;49m\u001B[38;5;28;43mself\u001B[39;49m\u001B[38;5;241;43m.\u001B[39;49m\u001B[43mfloris\u001B[49m\u001B[38;5;241;43m.\u001B[39;49m\u001B[43mfarm\u001B[49m\u001B[38;5;241;43m.\u001B[39;49m\u001B[43mturbine_power_interps\u001B[49m\u001B[43m,\u001B[49m\n\u001B[0;32m    583\u001B[0m \u001B[43m    \u001B[49m\u001B[43mturbine_type_map\u001B[49m\u001B[38;5;241;43m=\u001B[39;49m\u001B[38;5;28;43mself\u001B[39;49m\u001B[38;5;241;43m.\u001B[39;49m\u001B[43mfloris\u001B[49m\u001B[38;5;241;43m.\u001B[39;49m\u001B[43mfarm\u001B[49m\u001B[38;5;241;43m.\u001B[39;49m\u001B[43mturbine_type_map\u001B[49m\u001B[43m,\u001B[49m\n\u001B[0;32m    584\u001B[0m \u001B[43m\u001B[49m\u001B[43m)\u001B[49m\n\u001B[0;32m    585\u001B[0m \u001B[38;5;28;01mreturn\u001B[39;00m turbine_powers\n",
      "File \u001B[1;32m~\\anaconda3\\envs\\WEFinal\\lib\\site-packages\\floris\\simulation\\turbine.py:148\u001B[0m, in \u001B[0;36mpower\u001B[1;34m(air_density, ref_density_cp_ct, velocities, yaw_angle, pP, power_interp, turbine_type_map, ix_filter)\u001B[0m\n\u001B[0;32m    144\u001B[0m turb_types \u001B[38;5;241m=\u001B[39m np\u001B[38;5;241m.\u001B[39munique(turbine_type_map)\n\u001B[0;32m    145\u001B[0m \u001B[38;5;28;01mfor\u001B[39;00m turb_type \u001B[38;5;129;01min\u001B[39;00m turb_types:\n\u001B[0;32m    146\u001B[0m     \u001B[38;5;66;03m# Using a masked array, apply the thrust coefficient for all turbines of the current\u001B[39;00m\n\u001B[0;32m    147\u001B[0m     \u001B[38;5;66;03m# type to the main thrust coefficient array\u001B[39;00m\n\u001B[1;32m--> 148\u001B[0m     p \u001B[38;5;241m+\u001B[39m\u001B[38;5;241m=\u001B[39m \u001B[43mpower_interp\u001B[49m\u001B[43m[\u001B[49m\u001B[43mturb_type\u001B[49m\u001B[43m]\u001B[49m\u001B[43m(\u001B[49m\u001B[43myaw_effective_velocity\u001B[49m\u001B[43m)\u001B[49m \u001B[38;5;241m*\u001B[39m np\u001B[38;5;241m.\u001B[39marray(turbine_type_map \u001B[38;5;241m==\u001B[39m turb_type)\n\u001B[0;32m    150\u001B[0m \u001B[38;5;28;01mreturn\u001B[39;00m p \u001B[38;5;241m*\u001B[39m ref_density_cp_ct\n",
      "File \u001B[1;32m~\\anaconda3\\envs\\WEFinal\\lib\\site-packages\\scipy\\interpolate\\_polyint.py:78\u001B[0m, in \u001B[0;36m_Interpolator1D.__call__\u001B[1;34m(self, x)\u001B[0m\n\u001B[0;32m     57\u001B[0m \u001B[38;5;250m\u001B[39m\u001B[38;5;124;03m\"\"\"\u001B[39;00m\n\u001B[0;32m     58\u001B[0m \u001B[38;5;124;03mEvaluate the interpolant\u001B[39;00m\n\u001B[0;32m     59\u001B[0m \n\u001B[1;32m   (...)\u001B[0m\n\u001B[0;32m     75\u001B[0m \n\u001B[0;32m     76\u001B[0m \u001B[38;5;124;03m\"\"\"\u001B[39;00m\n\u001B[0;32m     77\u001B[0m x, x_shape \u001B[38;5;241m=\u001B[39m \u001B[38;5;28mself\u001B[39m\u001B[38;5;241m.\u001B[39m_prepare_x(x)\n\u001B[1;32m---> 78\u001B[0m y \u001B[38;5;241m=\u001B[39m \u001B[38;5;28;43mself\u001B[39;49m\u001B[38;5;241;43m.\u001B[39;49m\u001B[43m_evaluate\u001B[49m\u001B[43m(\u001B[49m\u001B[43mx\u001B[49m\u001B[43m)\u001B[49m\n\u001B[0;32m     79\u001B[0m \u001B[38;5;28;01mreturn\u001B[39;00m \u001B[38;5;28mself\u001B[39m\u001B[38;5;241m.\u001B[39m_finish_y(y, x_shape)\n",
      "File \u001B[1;32m~\\anaconda3\\envs\\WEFinal\\lib\\site-packages\\scipy\\interpolate\\_interpolate.py:695\u001B[0m, in \u001B[0;36minterp1d._evaluate\u001B[1;34m(self, x_new)\u001B[0m\n\u001B[0;32m    693\u001B[0m y_new \u001B[38;5;241m=\u001B[39m \u001B[38;5;28mself\u001B[39m\u001B[38;5;241m.\u001B[39m_call(\u001B[38;5;28mself\u001B[39m, x_new)\n\u001B[0;32m    694\u001B[0m \u001B[38;5;28;01mif\u001B[39;00m \u001B[38;5;129;01mnot\u001B[39;00m \u001B[38;5;28mself\u001B[39m\u001B[38;5;241m.\u001B[39m_extrapolate:\n\u001B[1;32m--> 695\u001B[0m     below_bounds, above_bounds \u001B[38;5;241m=\u001B[39m \u001B[38;5;28;43mself\u001B[39;49m\u001B[38;5;241;43m.\u001B[39;49m\u001B[43m_check_bounds\u001B[49m\u001B[43m(\u001B[49m\u001B[43mx_new\u001B[49m\u001B[43m)\u001B[49m\n\u001B[0;32m    696\u001B[0m     \u001B[38;5;28;01mif\u001B[39;00m \u001B[38;5;28mlen\u001B[39m(y_new) \u001B[38;5;241m>\u001B[39m \u001B[38;5;241m0\u001B[39m:\n\u001B[0;32m    697\u001B[0m         \u001B[38;5;66;03m# Note fill_value must be broadcast up to the proper size\u001B[39;00m\n\u001B[0;32m    698\u001B[0m         \u001B[38;5;66;03m# and flattened to work here\u001B[39;00m\n\u001B[0;32m    699\u001B[0m         y_new[below_bounds] \u001B[38;5;241m=\u001B[39m \u001B[38;5;28mself\u001B[39m\u001B[38;5;241m.\u001B[39m_fill_value_below\n",
      "File \u001B[1;32m~\\anaconda3\\envs\\WEFinal\\lib\\site-packages\\scipy\\interpolate\\_interpolate.py:724\u001B[0m, in \u001B[0;36minterp1d._check_bounds\u001B[1;34m(self, x_new)\u001B[0m\n\u001B[0;32m    722\u001B[0m \u001B[38;5;66;03m# !! Could provide more information about which values are out of bounds\u001B[39;00m\n\u001B[0;32m    723\u001B[0m \u001B[38;5;28;01mif\u001B[39;00m \u001B[38;5;28mself\u001B[39m\u001B[38;5;241m.\u001B[39mbounds_error \u001B[38;5;129;01mand\u001B[39;00m below_bounds\u001B[38;5;241m.\u001B[39many():\n\u001B[1;32m--> 724\u001B[0m     \u001B[38;5;28;01mraise\u001B[39;00m \u001B[38;5;167;01mValueError\u001B[39;00m(\u001B[38;5;124m\"\u001B[39m\u001B[38;5;124mA value in x_new is below the interpolation \u001B[39m\u001B[38;5;124m\"\u001B[39m\n\u001B[0;32m    725\u001B[0m                      \u001B[38;5;124m\"\u001B[39m\u001B[38;5;124mrange.\u001B[39m\u001B[38;5;124m\"\u001B[39m)\n\u001B[0;32m    726\u001B[0m \u001B[38;5;28;01mif\u001B[39;00m \u001B[38;5;28mself\u001B[39m\u001B[38;5;241m.\u001B[39mbounds_error \u001B[38;5;129;01mand\u001B[39;00m above_bounds\u001B[38;5;241m.\u001B[39many():\n\u001B[0;32m    727\u001B[0m     \u001B[38;5;28;01mraise\u001B[39;00m \u001B[38;5;167;01mValueError\u001B[39;00m(\u001B[38;5;124m\"\u001B[39m\u001B[38;5;124mA value in x_new is above the interpolation \u001B[39m\u001B[38;5;124m\"\u001B[39m\n\u001B[0;32m    728\u001B[0m                      \u001B[38;5;124m\"\u001B[39m\u001B[38;5;124mrange.\u001B[39m\u001B[38;5;124m\"\u001B[39m)\n",
      "\u001B[1;31mValueError\u001B[0m: A value in x_new is below the interpolation range."
     ]
    }
   ],
   "source": [
    "powers = fi.get_turbine_powers() / 1000.0  # calculated in Watts, so convert to kW\n",
    "\n",
    "print(\"Dimensions of `powers`\")\n",
    "print( np.shape(powers) )\n",
    "\n",
    "N_TURBINES = fi.floris.farm.n_turbines\n",
    "\n",
    "print()\n",
    "print(\"Turbine powers for 8 m/s\")\n",
    "for i in range(2):\n",
    "    print(f\"Wind direction {i}\")\n",
    "    for j in range(N_TURBINES):\n",
    "        print(f\"  Turbine {j} - {powers[i, 0, j]:.2f} kW\")\n",
    "    print()\n",
    "\n",
    "print(\"Turbine powers for all turbines at all wind conditions\")\n",
    "print(powers)"
   ]
  },
  {
   "cell_type": "markdown",
   "id": "8ab273db",
   "metadata": {},
   "source": [
    "## Applying yaw angles\n",
    "\n",
    "Yaw angles are applied to turbines through the `FlorisInterface.calculate_wake` function.\n",
    "In order to fit into the vectorized framework, the yaw settings must be represented as\n",
    "a `Numpy.array` with  dimensions equal to:\n",
    "- 0: number of wind directions\n",
    "- 1: number of wind speeds\n",
    "- 2: number of turbines\n",
    "\n",
    "**Unlike the data configured in `FlorisInterface.reinitialize()`, yaw angles are not retained**\n",
    "**in memory and must be provided each time `FlorisInterface.calculate_wake` is used.**\n",
    "**If no yaw angles are given, all turbines will be aligned with the inflow.**\n",
    "\n",
    "It is typically easiest to start with an array of 0's and modify individual\n",
    "turbine yaw settings, as shown below."
   ]
  },
  {
   "cell_type": "code",
   "execution_count": null,
   "id": "be78e20d",
   "metadata": {},
   "outputs": [],
   "source": [
    "yaw_angles = np.zeros( (2, 2, 4) )\n",
    "print(\"Yaw angle array initialized with 0's\")\n",
    "print(yaw_angles)\n",
    "\n",
    "print(\"First turbine yawed 25 degrees for every atmospheric condition\")\n",
    "yaw_angles[:, :, 0] = 25\n",
    "print(yaw_angles)\n",
    "\n",
    "fi.calculate_wake(yaw_angles=yaw_angles)"
   ]
  },
  {
   "cell_type": "markdown",
   "id": "1ef54dc5",
   "metadata": {},
   "source": [
    "## Start to finish\n",
    "\n",
    "Let's put it all together. The code below outlines these steps:\n",
    "1. Load an input file\n",
    "2. Modify the inputs with a more complex wind turbine layout and additional atmospheric conditions\n",
    "3. Calculate the velocities at each turbine for all atmospheric conditions\n",
    "4. Get the total farm power\n",
    "5. Develop the yaw control settings\n",
    "6. Calculate the velocities at each turbine for all atmospheric conditions with the new yaw settings\n",
    "7. Get the total farm power\n",
    "8. Compare farm power with and without wake steering"
   ]
  },
  {
   "cell_type": "code",
   "execution_count": null,
   "id": "205738aa",
   "metadata": {},
   "outputs": [],
   "source": [
    "# 1. Load an input file\n",
    "fi = FlorisInterface(\"gch.yaml\")\n",
    "\n",
    "fi.floris.solver\n",
    "\n",
    "# 2. Modify the inputs with a more complex wind turbine layout\n",
    "D = 126.0  # Design the layout based on turbine diameter\n",
    "x = [0, 0,  6 * D, 6 * D]\n",
    "y = [0, 3 * D, 0, 3 * D]\n",
    "wind_directions = [270.0, 280.0]\n",
    "wind_speeds = [8.0]\n",
    "\n",
    "# Pass the new data to FlorisInterface\n",
    "fi.reinitialize(\n",
    "    layout_x=x,\n",
    "    layout_y=y,\n",
    "    wind_directions=wind_directions,\n",
    "    wind_speeds=wind_speeds\n",
    ")\n",
    "\n",
    "# 3. Calculate the velocities at each turbine for all atmospheric conditions\n",
    "# All turbines have 0 degrees yaw\n",
    "fi.calculate_wake()\n",
    "\n",
    "# 4. Get the total farm power\n",
    "turbine_powers = fi.get_turbine_powers() / 1000.0  # Given in W, so convert to kW\n",
    "farm_power_baseline = np.sum(turbine_powers, 2)  # Sum over the third dimension\n",
    "\n",
    "# 5. Develop the yaw control settings\n",
    "yaw_angles = np.zeros( (2, 1, 4) )  # Construct the yaw array with dimensions for two wind directions, one wind speed, and four turbines\n",
    "yaw_angles[0, :, 0] = 25            # At 270 degrees, yaw the first turbine 25 degrees\n",
    "yaw_angles[0, :, 1] = 25            # At 270 degrees, yaw the second turbine 25 degrees\n",
    "yaw_angles[1, :, 0] = 10           # At 265 degrees, yaw the first turbine -25 degrees\n",
    "yaw_angles[1, :, 1] = 10           # At 265 degrees, yaw the second turbine -25 degrees\n",
    "\n",
    "# 6. Calculate the velocities at each turbine for all atmospheric conditions with the new yaw settings\n",
    "fi.calculate_wake(yaw_angles=yaw_angles)\n",
    "\n",
    "# 7. Get the total farm power\n",
    "turbine_powers = fi.get_turbine_powers() / 1000.0\n",
    "farm_power_yaw = np.sum(turbine_powers, 2)\n",
    "\n",
    "# 8. Compare farm power with and without wake steering\n",
    "difference = 100 * (farm_power_yaw - farm_power_baseline) / farm_power_baseline\n",
    "print(\"Power % difference with yaw\")\n",
    "print(f\"    270 degrees: {difference[0, 0]:4.2f}%\")\n",
    "print(f\"    280 degrees: {difference[1, 0]:4.2f}%\")"
   ]
  },
  {
   "cell_type": "markdown",
   "id": "99b7465c",
   "metadata": {},
   "source": [
    "## Visualization\n",
    "\n",
    "While comparing turbine and farm powers is meaningful, a picture is worth at least\n",
    "1000 Watts, and the `FlorisInterface` provides powerful routines for visualization.\n",
    "\n",
    "**NOTE `floris.tools` is under active design and development. The API's will change and additional functionality from FLORIS v2 will be included in upcoming releases.**\n",
    "\n",
    "The visualization functions require that the user select a single atmospheric condition\n",
    "to plot. The internal data structures still have the same shape but the wind speed and\n",
    "wind direction dimensions have a size of 1. This means that the yaw angle array used\n",
    "for plotting must have the same shape as above but a single atmospheric condition must\n",
    "be selected.\n",
    "\n",
    "Let's create a horizontal slice of each atmospheric condition from above with and without\n",
    "yaw settings included. Notice that although we are plotting the conditions for two\n",
    "different wind directions, the farm is rotated so that the wind is coming from the\n",
    "left (West) in both cases."
   ]
  },
  {
   "cell_type": "code",
   "execution_count": null,
   "id": "8bb179ff",
   "metadata": {},
   "outputs": [],
   "source": [
    "from floris.tools.visualization import visualize_cut_plane\n",
    "\n",
    "fig, axarr = plt.subplots(2, 2, figsize=(15,8))\n",
    "\n",
    "horizontal_plane = fi.calculate_horizontal_plane(wd=[wind_directions[0]], height=90.0)\n",
    "visualize_cut_plane(horizontal_plane, ax=axarr[0,0], title=\"270 - Aligned\")\n",
    "\n",
    "horizontal_plane = fi.calculate_horizontal_plane(wd=[wind_directions[0]], yaw_angles=yaw_angles[0:1,0:1] , height=90.0)\n",
    "visualize_cut_plane(horizontal_plane, ax=axarr[0,1], title=\"270 - Yawed\")\n",
    "\n",
    "horizontal_plane = fi.calculate_horizontal_plane(wd=[wind_directions[1]], height=90.0)\n",
    "visualize_cut_plane(horizontal_plane, ax=axarr[1,0], title=\"280 - Aligned\")\n",
    "\n",
    "horizontal_plane = fi.calculate_horizontal_plane(wd=[wind_directions[1]], yaw_angles=yaw_angles[1:2,0:1] , height=90.0)\n",
    "visualize_cut_plane(horizontal_plane, ax=axarr[1,1], title=\"280 - Yawed\")"
   ]
  },
  {
   "cell_type": "markdown",
   "id": "d84cf194",
   "metadata": {},
   "source": [
    "We can also plot the streamwise inflow velocities on the turbine rotor\n",
    "grid points located on the rotor plane. The `plot_rotor_values` function\n",
    "simply plots any data given as the first argument, so in this case\n",
    "`fi.floris.flow_field.u` contains the yawed calculation from above."
   ]
  },
  {
   "cell_type": "code",
   "execution_count": null,
   "id": "3e517614",
   "metadata": {},
   "outputs": [],
   "source": [
    "from floris.tools.visualization import plot_rotor_values\n",
    "\n",
    "fig, _, _ , _ = plot_rotor_values(fi.floris.flow_field.u, wd_index=0, ws_index=0, n_rows=1, n_cols=4, return_fig_objects=True)\n",
    "fig.suptitle(\"Wind direction 270\")\n",
    "\n",
    "fig, _, _ , _ = plot_rotor_values(fi.floris.flow_field.u, wd_index=1, ws_index=0, n_rows=1, n_cols=4, return_fig_objects=True)\n",
    "fig.suptitle(\"Wind direction 280\")"
   ]
  },
  {
   "cell_type": "markdown",
   "id": "4dc966e1",
   "metadata": {},
   "source": [
    "## On Grid Points"
   ]
  },
  {
   "cell_type": "markdown",
   "id": "e8241714",
   "metadata": {},
   "source": [
    "In FLORIS, grid points are the points in space where the wind conditions are calculated.\n",
    "In a typical simulation, these are all located on a regular grid on each turbine rotor.\n",
    "\n",
    "The parameter `turbine_grid_points` specifies the number of rows and columns which define the turbine grid.\n",
    "In the example inputs, this value is 3 meaning there are 3 x 3 = 9 total grid points for each turbine.\n",
    "Wake steering codes currently require greater values greater than 1 in order to compute gradients.\n",
    "However, a single grid point (1 x 1) may be suitable for non wind farm control applications,\n",
    "but retuning of some parameters might be required.\n",
    "\n",
    "We can visualize the locations of the grid points in the current example using `matplotlib.pyplot`."
   ]
  },
  {
   "cell_type": "code",
   "execution_count": null,
   "id": "774acfea",
   "metadata": {},
   "outputs": [],
   "source": [
    "# Get the grid points\n",
    "xs = fi.floris.grid.x\n",
    "ys = fi.floris.grid.y\n",
    "zs = fi.floris.grid.z\n",
    "\n",
    "# Consider the shape\n",
    "print(f\"shape of xs: {xs.shape}\")\n",
    "print(\"  2 wd x 2 ws x 4 turbines x 3 x 3 grid points\")\n",
    "\n",
    "# Lets plot just one wd/ws conditions\n",
    "xs = xs[1, 0, :, :, :]\n",
    "ys = ys[1, 0, :, :, :]\n",
    "zs = zs[1, 0, :, :, :]\n",
    "\n",
    "fig = plt.figure()\n",
    "ax = fig.add_subplot(111, projection=\"3d\")\n",
    "ax.scatter(xs, ys, zs, marker=\".\")\n",
    "ax.set_zlim([0, 150])"
   ]
  },
  {
   "cell_type": "markdown",
   "id": "307afc4e",
   "metadata": {},
   "source": [
    "# Advanced Usage and Concepts"
   ]
  },
  {
   "cell_type": "markdown",
   "id": "e91f7a84",
   "metadata": {},
   "source": [
    "## Calculating AEP"
   ]
  },
  {
   "cell_type": "markdown",
   "id": "34bc7865",
   "metadata": {},
   "source": [
    "Calculating AEP in FLORIS v3 leverages the vectorized framework to\n",
    "substantially reduce the computation time with respect to v2.4.\n",
    "Here, we demonstrate a simple AEP calculation for a 25-turbine farm\n",
    "using several different modeling options. We make the assumption\n",
    "that every wind speed and direction is equally likely. We also\n",
    "report the time required for the computation using the Python\n",
    "`time.perf_counter()` function."
   ]
  },
  {
   "cell_type": "code",
   "execution_count": null,
   "id": "ee1918d6",
   "metadata": {},
   "outputs": [],
   "source": [
    "import time\n",
    "from typing import Tuple\n",
    "\n",
    "wind_directions = np.arange(0.0, 360.0, 5.0)\n",
    "wind_speeds = np.arange(5.0, 25.0, 1.0)\n",
    "\n",
    "num_bins = len(wind_directions) * len(wind_speeds)\n",
    "print(f\"Calculating AEP for {num_bins} wind direction and speed combinations...\")\n",
    "\n",
    "# Set up a square 25 turbine layout\n",
    "N = 5  # Number of turbines per row and per column\n",
    "D = 126.0\n",
    "\n",
    "X, Y = np.meshgrid(\n",
    "    7.0 * D * np.arange(0, N, 1),\n",
    "    7.0 * D * np.arange(0, N, 1),\n",
    ")\n",
    "X = X.flatten()\n",
    "Y = Y.flatten()\n",
    "print(f\"Number of turbines = {len(X)}\")\n",
    "\n",
    "# Define several models\n",
    "fi_jensen = FlorisInterface(\"jensen.yaml\")\n",
    "fi_gch = FlorisInterface(\"gch.yaml\")\n",
    "fi_cc = FlorisInterface(\"cc.yaml\")\n",
    "\n",
    "# Assign the layouts, wind speeds and directions\n",
    "fi_jensen.reinitialize(layout_x=X, layout_y=Y, wind_directions=wind_directions, wind_speeds=wind_speeds)\n",
    "fi_gch.reinitialize(layout_x=X, layout_y=Y, wind_directions=wind_directions, wind_speeds=wind_speeds)\n",
    "fi_cc.reinitialize(layout_x=X, layout_y=Y, wind_directions=wind_directions, wind_speeds=wind_speeds)\n",
    "\n",
    "def time_model_calculation(model_fi: FlorisInterface) -> Tuple[float, float]:\n",
    "    \"\"\"\n",
    "    This function performs the wake calculation for a given\n",
    "    FlorisInterface object and computes the AEP while\n",
    "    tracking the amount of wall-time required for both steps.\n",
    "\n",
    "    Args:\n",
    "        model_fi (FlorisInterface): _description_\n",
    "        float (_type_): _description_\n",
    "\n",
    "    Returns:\n",
    "        tuple(float, float):\n",
    "            0: AEP\n",
    "            1: Wall-time for the computation\n",
    "    \"\"\"\n",
    "    start = time.perf_counter()\n",
    "    model_fi.calculate_wake()\n",
    "    aep = model_fi.get_farm_power().sum() / num_bins  / 1E9 * 365 * 24\n",
    "    end = time.perf_counter()\n",
    "    return aep, end - start\n",
    "\n",
    "jensen_aep, jensen_compute_time = time_model_calculation(fi_jensen)\n",
    "gch_aep, gch_compute_time = time_model_calculation(fi_gch)\n",
    "cc_aep, cc_compute_time = time_model_calculation(fi_cc)\n",
    "\n",
    "print('Model    AEP (GWh)  Compute Time (s)')\n",
    "print('{:8s} {:<10.3f} {:<6.3f}'.format(\"Jensen\", jensen_aep, jensen_compute_time))\n",
    "print('{:8s} {:<10.3f} {:<6.3f}'.format(\"GCH\", gch_aep, gch_compute_time))\n",
    "print('{:8s} {:<10.3f} {:<6.3f}'.format(\"CC\", cc_aep, cc_compute_time))"
   ]
  },
  {
   "cell_type": "markdown",
   "id": "c006ae1e",
   "metadata": {},
   "source": [
    "## Wake Steering Design"
   ]
  },
  {
   "cell_type": "markdown",
   "id": "f5777dae",
   "metadata": {},
   "source": [
    "FLORIS V3 further includes new optimization routines for the design of wake steering controllers.  The SerialRefine is a new method for quickly identifying optimum yaw angles."
   ]
  },
  {
   "cell_type": "code",
   "execution_count": null,
   "id": "32a93c6d",
   "metadata": {},
   "outputs": [],
   "source": [
    "# Demonstrate on 7-turbine single row farm\n",
    "X = np.linspace(0, 6*7*D, 7)\n",
    "Y = np.zeros_like(X)\n",
    "wind_speeds = [8.]\n",
    "wind_directions = np.arange(0., 360., 2.)\n",
    "fi_gch.reinitialize(layout_x=X, layout_y=Y, wind_directions=wind_directions, wind_speeds=wind_speeds)"
   ]
  },
  {
   "cell_type": "code",
   "execution_count": null,
   "id": "7d773cdc",
   "metadata": {},
   "outputs": [],
   "source": [
    "from floris.tools.optimization.yaw_optimization.yaw_optimizer_sr import YawOptimizationSR\n",
    "\n",
    "# Define the SerialRefine optimization\n",
    "yaw_opt = YawOptimizationSR(\n",
    "    fi=fi_gch,\n",
    "    minimum_yaw_angle=0.0,  # Allowable yaw angles lower bound\n",
    "    maximum_yaw_angle=25.0,  # Allowable yaw angles upper bound\n",
    "    Ny_passes=[5, 4],\n",
    "    exclude_downstream_turbines=True,\n",
    "    exploit_layout_symmetry=True,\n",
    ")"
   ]
  },
  {
   "cell_type": "code",
   "execution_count": null,
   "id": "1ccb9ab7",
   "metadata": {},
   "outputs": [],
   "source": [
    "start = time.perf_counter()\n",
    "\n",
    "## Calculate the optimum yaw angles for 25 turbines and 72 wind directions\n",
    "df_opt = yaw_opt.optimize()\n",
    "\n",
    "end = time.perf_counter()\n",
    "\n",
    "walltime = end - start\n",
    "print(f\"Optimization wall time: {walltime:.3f} s\")\n"
   ]
  },
  {
   "cell_type": "markdown",
   "id": "fb2e01e8",
   "metadata": {},
   "source": [
    "In the results, T0 is the upstream turbine when wind direction is 270, while T6 is upstream at 90 deg"
   ]
  },
  {
   "cell_type": "code",
   "execution_count": null,
   "id": "686548be",
   "metadata": {},
   "outputs": [],
   "source": [
    "# Show the results\n",
    "yaw_angles_opt = np.vstack(df_opt[\"yaw_angles_opt\"])\n",
    "fig, axarr = plt.subplots(len(X), 1, sharex=True, sharey=True, figsize=(10, 10))\n",
    "for i in range(len(X)):\n",
    "    axarr[i].plot(wind_directions, yaw_angles_opt[:, i], 'k-', label='T%d' % i)\n",
    "    axarr[i].set_ylabel('Yaw (Deg)')\n",
    "    axarr[i].legend()\n",
    "    axarr[i].grid(True)\n",
    "axarr[-1].set_xlabel('Wind Direction (Deg)')"
   ]
  }
 ],
 "metadata": {
  "jekyll": {
   "layout": "default",
   "nav_order": 1,
   "permalink": "/tutorials/index",
   "title": "Overview"
  },
  "kernelspec": {
   "display_name": "Python 3.10.4 ('floris')",
   "language": "python",
   "name": "python3"
  },
  "language_info": {
   "codemirror_mode": {
    "name": "ipython",
    "version": 3
   },
   "file_extension": ".py",
   "mimetype": "text/x-python",
   "name": "python",
   "nbconvert_exporter": "python",
   "pygments_lexer": "ipython3",
   "version": "3.10.4"
  },
  "vscode": {
   "interpreter": {
    "hash": "853a8652e3619d46ff0e51baac54f380b0862f9ec17aef8c5e0b66472a177ac0"
   }
  }
 },
 "nbformat": 4,
 "nbformat_minor": 5
}
