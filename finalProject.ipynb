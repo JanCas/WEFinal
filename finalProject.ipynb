{
 "cells": [
  {
   "cell_type": "code",
   "execution_count": 1,
   "outputs": [],
   "source": [
    "import numpy as np\n",
    "from floris.tools import FlorisInterface\n",
    "import matplotlib.pyplot as plt\n",
    "import requests\n",
    "import json\n"
   ],
   "metadata": {
    "collapsed": false
   }
  },
  {
   "cell_type": "code",
   "execution_count": 10,
   "outputs": [
    {
     "name": "stdout",
     "output_type": "stream",
     "text": [
      "{'inputs': {'body': {}, 'params': {}, 'query': {'wkt': 'POINT(-78.483215 32.104233)', 'email': 'jan.l.cas@outlook.com', 'names': '2014'}}, 'metadata': {'version': '2.0.0', 'resultset': {'count': 1}}, 'status': 200, 'outputs': {'message': 'File generation in progress. An email will be sent to jan.l.cas@outlook.com when the download is ready.', 'downloadUrl': 'https://mapfiles.nrel.gov/data/wind/8da8171fbe5b1bceffd075c2f0c161ab.zip'}, 'errors': []}\n"
     ]
    }
   ],
   "source": [
    "api_key = '1pbZGEZaTqIA6Yb811pON4Fb0fppcFnJNkoKaOrl'\n",
    "location = '-78.483215 32.104233'\n",
    "year = 2014\n",
    "email='jan.l.cas@outlook.com'\n",
    "\n",
    "url = f'https://developer.nrel.gov/api/wind-toolkit/v2/wind/wtk-download.json?api_key={api_key}&wkt=POINT({location})&email={email}&names={year}'\n",
    "\n",
    "response = requests.get(url)\n",
    "data = json.loads(response.text)\n",
    "\n",
    "print(data)"
   ],
   "metadata": {
    "collapsed": false
   }
  },
  {
   "cell_type": "code",
   "execution_count": null,
   "outputs": [],
   "source": [],
   "metadata": {
    "collapsed": false
   }
  }
 ],
 "metadata": {
  "kernelspec": {
   "display_name": "Python 3",
   "language": "python",
   "name": "python3"
  },
  "language_info": {
   "codemirror_mode": {
    "name": "ipython",
    "version": 2
   },
   "file_extension": ".py",
   "mimetype": "text/x-python",
   "name": "python",
   "nbconvert_exporter": "python",
   "pygments_lexer": "ipython2",
   "version": "2.7.6"
  }
 },
 "nbformat": 4,
 "nbformat_minor": 0
}
