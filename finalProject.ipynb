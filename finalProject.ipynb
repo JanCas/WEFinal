{
 "cells": [
  {
   "cell_type": "code",
   "execution_count": 1,
   "metadata": {
    "collapsed": true
   },
   "outputs": [],
   "source": [
    "import floris"
   ]
  },
  {
   "cell_type": "code",
   "execution_count": 2,
   "outputs": [
    {
     "name": "stdout",
     "output_type": "stream",
     "text": [
      "Help on package floris:\n",
      "\n",
      "NAME\n",
      "    floris - # Copyright 2021 NREL\n",
      "\n",
      "PACKAGE CONTENTS\n",
      "    logging_manager\n",
      "    simulation (package)\n",
      "    tools (package)\n",
      "    type_dec\n",
      "    utilities\n",
      "    version\n",
      "\n",
      "VERSION\n",
      "    3.2.2\n",
      "\n",
      "FILE\n",
      "    c:\\users\\janlc\\miniconda3\\envs\\meen5740\\lib\\site-packages\\floris\\__init__.py\n",
      "\n",
      "\n"
     ]
    }
   ],
   "source": [],
   "metadata": {
    "collapsed": false
   }
  },
  {
   "cell_type": "code",
   "execution_count": null,
   "outputs": [],
   "source": [],
   "metadata": {
    "collapsed": false
   }
  }
 ],
 "metadata": {
  "kernelspec": {
   "display_name": "Python 3",
   "language": "python",
   "name": "python3"
  },
  "language_info": {
   "codemirror_mode": {
    "name": "ipython",
    "version": 2
   },
   "file_extension": ".py",
   "mimetype": "text/x-python",
   "name": "python",
   "nbconvert_exporter": "python",
   "pygments_lexer": "ipython2",
   "version": "2.7.6"
  }
 },
 "nbformat": 4,
 "nbformat_minor": 0
}
